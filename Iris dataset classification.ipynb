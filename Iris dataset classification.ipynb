{
 "cells": [
  {
   "attachments": {},
   "cell_type": "markdown",
   "id": "bf6f37dc",
   "metadata": {},
   "source": [
    "## Importing dataset"
   ]
  },
  {
   "cell_type": "code",
   "execution_count": 1,
   "id": "a2fa28ff",
   "metadata": {},
   "outputs": [],
   "source": [
    "import pandas as pd\n",
    "import matplotlib.pyplot as plt\n",
    "from sklearn import datasets\n",
    "from sklearn.decomposition import PCA\n",
    "from sklearn.neighbors import KNeighborsClassifier\n",
    "from sklearn.model_selection import train_test_split\n",
    "from sklearn.metrics import accuracy_score\n",
    "import numpy as np"
   ]
  },
  {
   "cell_type": "code",
   "execution_count": 2,
   "id": "7c7d2b8f",
   "metadata": {},
   "outputs": [],
   "source": [
    "data = pd.read_csv(\"iris.data\", names=[\"sepal_length\", \"sepal_width\", \"petal_length\", \"petal_width\", \"class\"])"
   ]
  },
  {
   "cell_type": "code",
   "execution_count": 4,
   "id": "6a122ad4",
   "metadata": {},
   "outputs": [
    {
     "data": {
      "text/html": [
       "<div>\n",
       "<style scoped>\n",
       "    .dataframe tbody tr th:only-of-type {\n",
       "        vertical-align: middle;\n",
       "    }\n",
       "\n",
       "    .dataframe tbody tr th {\n",
       "        vertical-align: top;\n",
       "    }\n",
       "\n",
       "    .dataframe thead th {\n",
       "        text-align: right;\n",
       "    }\n",
       "</style>\n",
       "<table border=\"1\" class=\"dataframe\">\n",
       "  <thead>\n",
       "    <tr style=\"text-align: right;\">\n",
       "      <th></th>\n",
       "      <th>sepal_length</th>\n",
       "      <th>sepal_width</th>\n",
       "      <th>petal_length</th>\n",
       "      <th>petal_width</th>\n",
       "      <th>class</th>\n",
       "    </tr>\n",
       "  </thead>\n",
       "  <tbody>\n",
       "    <tr>\n",
       "      <th>0</th>\n",
       "      <td>5.1</td>\n",
       "      <td>3.5</td>\n",
       "      <td>1.4</td>\n",
       "      <td>0.2</td>\n",
       "      <td>Iris-setosa</td>\n",
       "    </tr>\n",
       "    <tr>\n",
       "      <th>1</th>\n",
       "      <td>4.9</td>\n",
       "      <td>3.0</td>\n",
       "      <td>1.4</td>\n",
       "      <td>0.2</td>\n",
       "      <td>Iris-setosa</td>\n",
       "    </tr>\n",
       "    <tr>\n",
       "      <th>2</th>\n",
       "      <td>4.7</td>\n",
       "      <td>3.2</td>\n",
       "      <td>1.3</td>\n",
       "      <td>0.2</td>\n",
       "      <td>Iris-setosa</td>\n",
       "    </tr>\n",
       "    <tr>\n",
       "      <th>3</th>\n",
       "      <td>4.6</td>\n",
       "      <td>3.1</td>\n",
       "      <td>1.5</td>\n",
       "      <td>0.2</td>\n",
       "      <td>Iris-setosa</td>\n",
       "    </tr>\n",
       "    <tr>\n",
       "      <th>4</th>\n",
       "      <td>5.0</td>\n",
       "      <td>3.6</td>\n",
       "      <td>1.4</td>\n",
       "      <td>0.2</td>\n",
       "      <td>Iris-setosa</td>\n",
       "    </tr>\n",
       "    <tr>\n",
       "      <th>...</th>\n",
       "      <td>...</td>\n",
       "      <td>...</td>\n",
       "      <td>...</td>\n",
       "      <td>...</td>\n",
       "      <td>...</td>\n",
       "    </tr>\n",
       "    <tr>\n",
       "      <th>145</th>\n",
       "      <td>6.7</td>\n",
       "      <td>3.0</td>\n",
       "      <td>5.2</td>\n",
       "      <td>2.3</td>\n",
       "      <td>Iris-virginica</td>\n",
       "    </tr>\n",
       "    <tr>\n",
       "      <th>146</th>\n",
       "      <td>6.3</td>\n",
       "      <td>2.5</td>\n",
       "      <td>5.0</td>\n",
       "      <td>1.9</td>\n",
       "      <td>Iris-virginica</td>\n",
       "    </tr>\n",
       "    <tr>\n",
       "      <th>147</th>\n",
       "      <td>6.5</td>\n",
       "      <td>3.0</td>\n",
       "      <td>5.2</td>\n",
       "      <td>2.0</td>\n",
       "      <td>Iris-virginica</td>\n",
       "    </tr>\n",
       "    <tr>\n",
       "      <th>148</th>\n",
       "      <td>6.2</td>\n",
       "      <td>3.4</td>\n",
       "      <td>5.4</td>\n",
       "      <td>2.3</td>\n",
       "      <td>Iris-virginica</td>\n",
       "    </tr>\n",
       "    <tr>\n",
       "      <th>149</th>\n",
       "      <td>5.9</td>\n",
       "      <td>3.0</td>\n",
       "      <td>5.1</td>\n",
       "      <td>1.8</td>\n",
       "      <td>Iris-virginica</td>\n",
       "    </tr>\n",
       "  </tbody>\n",
       "</table>\n",
       "<p>150 rows × 5 columns</p>\n",
       "</div>"
      ],
      "text/plain": [
       "     sepal_length  sepal_width  petal_length  petal_width           class\n",
       "0             5.1          3.5           1.4          0.2     Iris-setosa\n",
       "1             4.9          3.0           1.4          0.2     Iris-setosa\n",
       "2             4.7          3.2           1.3          0.2     Iris-setosa\n",
       "3             4.6          3.1           1.5          0.2     Iris-setosa\n",
       "4             5.0          3.6           1.4          0.2     Iris-setosa\n",
       "..            ...          ...           ...          ...             ...\n",
       "145           6.7          3.0           5.2          2.3  Iris-virginica\n",
       "146           6.3          2.5           5.0          1.9  Iris-virginica\n",
       "147           6.5          3.0           5.2          2.0  Iris-virginica\n",
       "148           6.2          3.4           5.4          2.3  Iris-virginica\n",
       "149           5.9          3.0           5.1          1.8  Iris-virginica\n",
       "\n",
       "[150 rows x 5 columns]"
      ]
     },
     "execution_count": 4,
     "metadata": {},
     "output_type": "execute_result"
    }
   ],
   "source": [
    "data"
   ]
  },
  {
   "attachments": {},
   "cell_type": "markdown",
   "id": "763747b2",
   "metadata": {},
   "source": [
    "## Getting mean, deviation and mode of each variable"
   ]
  },
  {
   "cell_type": "code",
   "execution_count": 16,
   "id": "beecc9c6",
   "metadata": {},
   "outputs": [
    {
     "name": "stdout",
     "output_type": "stream",
     "text": [
      "Mean:  5.843333333333334\n",
      "Standard deviation:  0.828066127977863\n",
      "Mode:  5.0\n"
     ]
    }
   ],
   "source": [
    "sepal_length_mean = data[\"sepal_length\"].mean()\n",
    "sepal_length_std = data[\"sepal_length\"].std()\n",
    "sepal_length_mode = data[\"sepal_length\"].mode()[0]\n",
    "\n",
    "print(\"Mean: \", sepal_length_mean)\n",
    "print(\"Standard deviation: \", sepal_length_std)\n",
    "print(\"Mode: \", sepal_length_mode)"
   ]
  },
  {
   "cell_type": "code",
   "execution_count": 17,
   "id": "e9708c71",
   "metadata": {},
   "outputs": [
    {
     "name": "stdout",
     "output_type": "stream",
     "text": [
      "Mean:  3.0540000000000003\n",
      "Standard deviation:  0.4335943113621737\n",
      "Mode:  3.0\n"
     ]
    }
   ],
   "source": [
    "sepal_width_mean = data[\"sepal_width\"].mean()\n",
    "sepal_width_std = data[\"sepal_width\"].std()\n",
    "sepal_width_mode = data[\"sepal_width\"].mode()[0]\n",
    "\n",
    "print(\"Mean: \", sepal_width_mean)\n",
    "print(\"Standard deviation: \", sepal_width_std)\n",
    "print(\"Mode: \", sepal_width_mode)"
   ]
  },
  {
   "cell_type": "code",
   "execution_count": 18,
   "id": "d6395f04",
   "metadata": {},
   "outputs": [
    {
     "name": "stdout",
     "output_type": "stream",
     "text": [
      "Mean:  3.758666666666666\n",
      "Standard deviation:  1.7644204199522626\n",
      "Mode:  1.5\n"
     ]
    }
   ],
   "source": [
    "petal_length_mean = data[\"petal_length\"].mean()\n",
    "petal_length_std = data[\"petal_length\"].std()\n",
    "petal_length_mode = data[\"petal_length\"].mode()[0]\n",
    "\n",
    "print(\"Mean: \", petal_length_mean)\n",
    "print(\"Standard deviation: \", petal_length_std)\n",
    "print(\"Mode: \", petal_length_mode)"
   ]
  },
  {
   "cell_type": "code",
   "execution_count": 19,
   "id": "bb45a95c",
   "metadata": {},
   "outputs": [
    {
     "name": "stdout",
     "output_type": "stream",
     "text": [
      "Mean:  1.1986666666666668\n",
      "Standard deviation:  0.7631607417008411\n",
      "Mode:  0.2\n"
     ]
    }
   ],
   "source": [
    "petal_width_mean = data[\"petal_width\"].mean()\n",
    "petal_width_std = data[\"petal_width\"].std()\n",
    "petal_width_mode = data[\"petal_width\"].mode()[0]\n",
    "\n",
    "print(\"Mean: \", petal_width_mean)\n",
    "print(\"Standard deviation: \", petal_width_std)\n",
    "print(\"Mode: \", petal_width_mode)"
   ]
  },
  {
   "attachments": {},
   "cell_type": "markdown",
   "id": "64365340",
   "metadata": {},
   "source": [
    "## Getting those values per class"
   ]
  },
  {
   "cell_type": "code",
   "execution_count": 22,
   "id": "c8a552ce",
   "metadata": {},
   "outputs": [
    {
     "data": {
      "text/plain": [
       "Iris-setosa        50\n",
       "Iris-versicolor    50\n",
       "Iris-virginica     50\n",
       "Name: class, dtype: int64"
      ]
     },
     "execution_count": 22,
     "metadata": {},
     "output_type": "execute_result"
    }
   ],
   "source": [
    "# Frequency of each class\n",
    "data[\"class\"].value_counts()"
   ]
  },
  {
   "attachments": {},
   "cell_type": "markdown",
   "id": "5b0b0912",
   "metadata": {},
   "source": [
    "#### Iris-setosa"
   ]
  },
  {
   "cell_type": "code",
   "execution_count": 34,
   "id": "54796e5f",
   "metadata": {},
   "outputs": [
    {
     "name": "stdout",
     "output_type": "stream",
     "text": [
      "Mean:  5.005999999999999\n",
      "Standard deviation:  0.35248968721345136\n",
      "Mode:  5.0\n"
     ]
    }
   ],
   "source": [
    "sepal_length_mean = data[\"sepal_length\"].where(data[\"class\"] == \"Iris-setosa\").mean()\n",
    "sepal_length_std = data[\"sepal_length\"].where(data[\"class\"] == \"Iris-setosa\").std()\n",
    "sepal_length_mode = data[\"sepal_length\"].where(data[\"class\"] == \"Iris-setosa\").mode()[0]\n",
    "\n",
    "print(\"Mean: \", sepal_length_mean)\n",
    "print(\"Standard deviation: \", sepal_length_std)\n",
    "print(\"Mode: \", sepal_length_mode)"
   ]
  },
  {
   "cell_type": "code",
   "execution_count": 35,
   "id": "a4500e37",
   "metadata": {},
   "outputs": [
    {
     "name": "stdout",
     "output_type": "stream",
     "text": [
      "Mean:  3.418\n",
      "Standard deviation:  0.38102439795469095\n",
      "Mode:  3.4\n"
     ]
    }
   ],
   "source": [
    "sepal_width_mean = data[\"sepal_width\"].where(data[\"class\"] == \"Iris-setosa\").mean()\n",
    "sepal_width_std = data[\"sepal_width\"].where(data[\"class\"] == \"Iris-setosa\").std()\n",
    "sepal_width_mode = data[\"sepal_width\"].where(data[\"class\"] == \"Iris-setosa\").mode()[0]\n",
    "\n",
    "print(\"Mean: \", sepal_width_mean)\n",
    "print(\"Standard deviation: \", sepal_width_std)\n",
    "print(\"Mode: \", sepal_width_mode)"
   ]
  },
  {
   "cell_type": "code",
   "execution_count": 36,
   "id": "85d978f4",
   "metadata": {},
   "outputs": [
    {
     "name": "stdout",
     "output_type": "stream",
     "text": [
      "Mean:  1.464\n",
      "Standard deviation:  0.17351115943644546\n",
      "Mode:  1.5\n"
     ]
    }
   ],
   "source": [
    "petal_length_mean = data[\"petal_length\"].where(data[\"class\"] == \"Iris-setosa\").mean()\n",
    "petal_length_std = data[\"petal_length\"].where(data[\"class\"] == \"Iris-setosa\").std()\n",
    "petal_length_mode = data[\"petal_length\"].where(data[\"class\"] == \"Iris-setosa\").mode()[0]\n",
    "\n",
    "print(\"Mean: \", petal_length_mean)\n",
    "print(\"Standard deviation: \", petal_length_std)\n",
    "print(\"Mode: \", petal_length_mode)"
   ]
  },
  {
   "cell_type": "code",
   "execution_count": 37,
   "id": "c9508a2e",
   "metadata": {},
   "outputs": [
    {
     "name": "stdout",
     "output_type": "stream",
     "text": [
      "Mean:  0.244\n",
      "Standard deviation:  0.1072095030816784\n",
      "Mode:  0.2\n"
     ]
    }
   ],
   "source": [
    "petal_width_mean = data[\"petal_width\"].where(data[\"class\"] == \"Iris-setosa\").mean()\n",
    "petal_width_std = data[\"petal_width\"].where(data[\"class\"] == \"Iris-setosa\").std()\n",
    "petal_width_mode = data[\"petal_width\"].where(data[\"class\"] == \"Iris-setosa\").mode()[0]\n",
    "\n",
    "print(\"Mean: \", petal_width_mean)\n",
    "print(\"Standard deviation: \", petal_width_std)\n",
    "print(\"Mode: \", petal_width_mode)"
   ]
  },
  {
   "attachments": {},
   "cell_type": "markdown",
   "id": "35e4fc00",
   "metadata": {},
   "source": [
    "#### Iris-versicolor"
   ]
  },
  {
   "cell_type": "code",
   "execution_count": 38,
   "id": "8c349a07",
   "metadata": {},
   "outputs": [
    {
     "name": "stdout",
     "output_type": "stream",
     "text": [
      "Mean:  5.936\n",
      "Standard deviation:  0.5161711470638634\n",
      "Mode:  5.5\n"
     ]
    }
   ],
   "source": [
    "sepal_length_mean = data[\"sepal_length\"].where(data[\"class\"] == \"Iris-versicolor\").mean()\n",
    "sepal_length_std = data[\"sepal_length\"].where(data[\"class\"] == \"Iris-versicolor\").std()\n",
    "sepal_length_mode = data[\"sepal_length\"].where(data[\"class\"] == \"Iris-versicolor\").mode()[0]\n",
    "\n",
    "print(\"Mean: \", sepal_length_mean)\n",
    "print(\"Standard deviation: \", sepal_length_std)\n",
    "print(\"Mode: \", sepal_length_mode)"
   ]
  },
  {
   "cell_type": "code",
   "execution_count": 39,
   "id": "e56d5903",
   "metadata": {},
   "outputs": [
    {
     "name": "stdout",
     "output_type": "stream",
     "text": [
      "Mean:  2.77\n",
      "Standard deviation:  0.3137983233784114\n",
      "Mode:  3.0\n"
     ]
    }
   ],
   "source": [
    "sepal_width_mean = data[\"sepal_width\"].where(data[\"class\"] == \"Iris-versicolor\").mean()\n",
    "sepal_width_std = data[\"sepal_width\"].where(data[\"class\"] == \"Iris-versicolor\").std()\n",
    "sepal_width_mode = data[\"sepal_width\"].where(data[\"class\"] == \"Iris-versicolor\").mode()[0]\n",
    "\n",
    "print(\"Mean: \", sepal_width_mean)\n",
    "print(\"Standard deviation: \", sepal_width_std)\n",
    "print(\"Mode: \", sepal_width_mode)"
   ]
  },
  {
   "cell_type": "code",
   "execution_count": 40,
   "id": "546d740a",
   "metadata": {},
   "outputs": [
    {
     "name": "stdout",
     "output_type": "stream",
     "text": [
      "Mean:  4.26\n",
      "Standard deviation:  0.46991097723995795\n",
      "Mode:  4.5\n"
     ]
    }
   ],
   "source": [
    "petal_length_mean = data[\"petal_length\"].where(data[\"class\"] == \"Iris-versicolor\").mean()\n",
    "petal_length_std = data[\"petal_length\"].where(data[\"class\"] == \"Iris-versicolor\").std()\n",
    "petal_length_mode = data[\"petal_length\"].where(data[\"class\"] == \"Iris-versicolor\").mode()[0]\n",
    "\n",
    "print(\"Mean: \", petal_length_mean)\n",
    "print(\"Standard deviation: \", petal_length_std)\n",
    "print(\"Mode: \", petal_length_mode)"
   ]
  },
  {
   "cell_type": "code",
   "execution_count": 41,
   "id": "6cd9d183",
   "metadata": {},
   "outputs": [
    {
     "name": "stdout",
     "output_type": "stream",
     "text": [
      "Mean:  1.3260000000000003\n",
      "Standard deviation:  0.19775268000454405\n",
      "Mode:  1.3\n"
     ]
    }
   ],
   "source": [
    "petal_width_mean = data[\"petal_width\"].where(data[\"class\"] == \"Iris-versicolor\").mean()\n",
    "petal_width_std = data[\"petal_width\"].where(data[\"class\"] == \"Iris-versicolor\").std()\n",
    "petal_width_mode = data[\"petal_width\"].where(data[\"class\"] == \"Iris-versicolor\").mode()[0]\n",
    "\n",
    "print(\"Mean: \", petal_width_mean)\n",
    "print(\"Standard deviation: \", petal_width_std)\n",
    "print(\"Mode: \", petal_width_mode)"
   ]
  },
  {
   "attachments": {},
   "cell_type": "markdown",
   "id": "8aa8cc31",
   "metadata": {},
   "source": [
    "#### Iris-virginica"
   ]
  },
  {
   "cell_type": "code",
   "execution_count": 46,
   "id": "28e3c0df",
   "metadata": {},
   "outputs": [
    {
     "name": "stdout",
     "output_type": "stream",
     "text": [
      "Mean:  6.587999999999999\n",
      "Standard deviation:  0.6358795932744322\n",
      "Mode:  6.3\n"
     ]
    }
   ],
   "source": [
    "sepal_length_mean = data[\"sepal_length\"].where(data[\"class\"] == \"Iris-virginica\").mean()\n",
    "sepal_length_std = data[\"sepal_length\"].where(data[\"class\"] == \"Iris-virginica\").std()\n",
    "sepal_length_mode = data[\"sepal_length\"].where(data[\"class\"] == \"Iris-virginica\").mode()[0]\n",
    "\n",
    "print(\"Mean: \", sepal_length_mean)\n",
    "print(\"Standard deviation: \", sepal_length_std)\n",
    "print(\"Mode: \", sepal_length_mode)"
   ]
  },
  {
   "cell_type": "code",
   "execution_count": 47,
   "id": "f0e2c767",
   "metadata": {},
   "outputs": [
    {
     "name": "stdout",
     "output_type": "stream",
     "text": [
      "Mean:  2.974\n",
      "Standard deviation:  0.3224966381726375\n",
      "Mode:  3.0\n"
     ]
    }
   ],
   "source": [
    "sepal_width_mean = data[\"sepal_width\"].where(data[\"class\"] == \"Iris-virginica\").mean()\n",
    "sepal_width_std = data[\"sepal_width\"].where(data[\"class\"] == \"Iris-virginica\").std()\n",
    "sepal_width_mode = data[\"sepal_width\"].where(data[\"class\"] == \"Iris-virginica\").mode()[0]\n",
    "\n",
    "print(\"Mean: \", sepal_width_mean)\n",
    "print(\"Standard deviation: \", sepal_width_std)\n",
    "print(\"Mode: \", sepal_width_mode)"
   ]
  },
  {
   "cell_type": "code",
   "execution_count": 48,
   "id": "d07ac125",
   "metadata": {},
   "outputs": [
    {
     "name": "stdout",
     "output_type": "stream",
     "text": [
      "Mean:  5.552\n",
      "Standard deviation:  0.5518946956639834\n",
      "Mode:  5.1\n"
     ]
    }
   ],
   "source": [
    "petal_length_mean = data[\"petal_length\"].where(data[\"class\"] == \"Iris-virginica\").mean()\n",
    "petal_length_std = data[\"petal_length\"].where(data[\"class\"] == \"Iris-virginica\").std()\n",
    "petal_length_mode = data[\"petal_length\"].where(data[\"class\"] == \"Iris-virginica\").mode()[0]\n",
    "\n",
    "print(\"Mean: \", petal_length_mean)\n",
    "print(\"Standard deviation: \", petal_length_std)\n",
    "print(\"Mode: \", petal_length_mode)"
   ]
  },
  {
   "cell_type": "code",
   "execution_count": 49,
   "id": "36fcadd4",
   "metadata": {},
   "outputs": [
    {
     "name": "stdout",
     "output_type": "stream",
     "text": [
      "Mean:  2.026\n",
      "Standard deviation:  0.27465005563666733\n",
      "Mode:  1.8\n"
     ]
    }
   ],
   "source": [
    "petal_width_mean = data[\"petal_width\"].where(data[\"class\"] == \"Iris-virginica\").mean()\n",
    "petal_width_std = data[\"petal_width\"].where(data[\"class\"] == \"Iris-virginica\").std()\n",
    "petal_width_mode = data[\"petal_width\"].where(data[\"class\"] == \"Iris-virginica\").mode()[0]\n",
    "\n",
    "print(\"Mean: \", petal_width_mean)\n",
    "print(\"Standard deviation: \", petal_width_std)\n",
    "print(\"Mode: \", petal_width_mode)"
   ]
  },
  {
   "attachments": {},
   "cell_type": "markdown",
   "id": "e98c8a21",
   "metadata": {},
   "source": [
    "## Correlating width and length of sepals and petals for each class"
   ]
  },
  {
   "attachments": {},
   "cell_type": "markdown",
   "id": "cf58345c",
   "metadata": {},
   "source": [
    "#### Iris-setosa"
   ]
  },
  {
   "cell_type": "code",
   "execution_count": 51,
   "id": "ca3e7df9",
   "metadata": {},
   "outputs": [
    {
     "data": {
      "text/plain": [
       "0.7467803732639267"
      ]
     },
     "execution_count": 51,
     "metadata": {},
     "output_type": "execute_result"
    }
   ],
   "source": [
    "sepal_length = data[\"sepal_length\"].where(data[\"class\"] == \"Iris-setosa\")\n",
    "sepal_width = data[\"sepal_width\"].where(data[\"class\"] == \"Iris-setosa\")\n",
    "\n",
    "\n",
    "sepal_length.corr(sepal_width)"
   ]
  },
  {
   "cell_type": "code",
   "execution_count": 52,
   "id": "8a7ab11d",
   "metadata": {},
   "outputs": [
    {
     "data": {
      "text/plain": [
       "0.30630821115803575"
      ]
     },
     "execution_count": 52,
     "metadata": {},
     "output_type": "execute_result"
    }
   ],
   "source": [
    "petal_length = data[\"petal_length\"].where(data[\"class\"] == \"Iris-setosa\")\n",
    "petal_width = data[\"petal_width\"].where(data[\"class\"] == \"Iris-setosa\")\n",
    "\n",
    "petal_length.corr(petal_width)"
   ]
  },
  {
   "attachments": {},
   "cell_type": "markdown",
   "id": "bd02c696",
   "metadata": {},
   "source": [
    "#### Iris-versicolor"
   ]
  },
  {
   "cell_type": "code",
   "execution_count": 53,
   "id": "42ce26fd",
   "metadata": {},
   "outputs": [
    {
     "data": {
      "text/plain": [
       "0.5259107172828243"
      ]
     },
     "execution_count": 53,
     "metadata": {},
     "output_type": "execute_result"
    }
   ],
   "source": [
    "sepal_length = data[\"sepal_length\"].where(data[\"class\"] == \"Iris-versicolor\")\n",
    "sepal_width = data[\"sepal_width\"].where(data[\"class\"] == \"Iris-versicolor\")\n",
    "\n",
    "\n",
    "sepal_length.corr(sepal_width)"
   ]
  },
  {
   "cell_type": "code",
   "execution_count": 54,
   "id": "fbf15697",
   "metadata": {},
   "outputs": [
    {
     "data": {
      "text/plain": [
       "0.7866680885228169"
      ]
     },
     "execution_count": 54,
     "metadata": {},
     "output_type": "execute_result"
    }
   ],
   "source": [
    "petal_length = data[\"petal_length\"].where(data[\"class\"] == \"Iris-versicolor\")\n",
    "petal_width = data[\"petal_width\"].where(data[\"class\"] == \"Iris-versicolor\")\n",
    "\n",
    "petal_length.corr(petal_width)"
   ]
  },
  {
   "attachments": {},
   "cell_type": "markdown",
   "id": "c1342cee",
   "metadata": {},
   "source": [
    "#### Iris-virginica"
   ]
  },
  {
   "cell_type": "code",
   "execution_count": 56,
   "id": "d8425ee2",
   "metadata": {},
   "outputs": [
    {
     "data": {
      "text/plain": [
       "0.4572278163941129"
      ]
     },
     "execution_count": 56,
     "metadata": {},
     "output_type": "execute_result"
    }
   ],
   "source": [
    "sepal_length = data[\"sepal_length\"].where(data[\"class\"] == \"Iris-virginica\")\n",
    "sepal_width = data[\"sepal_width\"].where(data[\"class\"] == \"Iris-virginica\")\n",
    "\n",
    "\n",
    "sepal_length.corr(sepal_width)"
   ]
  },
  {
   "cell_type": "code",
   "execution_count": 57,
   "id": "2ec73906",
   "metadata": {},
   "outputs": [
    {
     "data": {
      "text/plain": [
       "0.3221082159003183"
      ]
     },
     "execution_count": 57,
     "metadata": {},
     "output_type": "execute_result"
    }
   ],
   "source": [
    "petal_length = data[\"petal_length\"].where(data[\"class\"] == \"Iris-virginica\")\n",
    "petal_width = data[\"petal_width\"].where(data[\"class\"] == \"Iris-virginica\")\n",
    "\n",
    "petal_length.corr(petal_width)"
   ]
  },
  {
   "cell_type": "code",
   "execution_count": 6,
   "id": "88a961d5",
   "metadata": {},
   "outputs": [
    {
     "data": {
      "text/plain": [
       "class\n",
       "Iris-setosa        50\n",
       "Iris-versicolor    50\n",
       "Iris-virginica     50\n",
       "Name: count, dtype: int64"
      ]
     },
     "execution_count": 6,
     "metadata": {},
     "output_type": "execute_result"
    }
   ],
   "source": [
    "data['class'].value_counts()"
   ]
  },
  {
   "attachments": {},
   "cell_type": "markdown",
   "id": "433deb06",
   "metadata": {},
   "source": [
    "#### Analysis of class distribution"
   ]
  },
  {
   "cell_type": "code",
   "execution_count": 9,
   "id": "142cfe6d",
   "metadata": {},
   "outputs": [
    {
     "data": {
      "image/png": "[encoded data removed]",
      "text/plain": [
       "<Figure size 1200x800 with 4 Axes>"
      ]
     },
     "metadata": {},
     "output_type": "display_data"
    }
   ],
   "source": [
    "setosa = data[data['class'] == 'Iris-setosa']\n",
    "versicolor = data[data['class'] == 'Iris-versicolor']\n",
    "virginica = data[data['class'] == 'Iris-virginica']\n",
    "\n",
    "plt.figure(figsize=(12, 8))\n",
    "\n",
    "# Comprimento da sépala\n",
    "plt.subplot(2, 2, 1)\n",
    "plt.scatter(setosa['sepal_length'], setosa['sepal_width'], label='Setosa')\n",
    "plt.scatter(versicolor['sepal_length'], versicolor['sepal_width'], label='Versicolor')\n",
    "plt.scatter(virginica['sepal_length'], virginica['sepal_width'], label='Virginica')\n",
    "plt.xlabel('Comprimento da Sépala')\n",
    "plt.ylabel('Largura da Sépala')\n",
    "plt.legend()\n",
    "\n",
    "# Largura da sépala\n",
    "plt.subplot(2, 2, 2)\n",
    "plt.scatter(setosa['petal_length'], setosa['sepal_width'], label='Setosa')\n",
    "plt.scatter(versicolor['petal_length'], versicolor['sepal_width'], label='Versicolor')\n",
    "plt.scatter(virginica['petal_length'], virginica['sepal_width'], label='Virginica')\n",
    "plt.xlabel('Comprimento da Pétala')\n",
    "plt.ylabel('Largura da Sépala')\n",
    "plt.legend()\n",
    "\n",
    "# Comprimento da pétala\n",
    "plt.subplot(2, 2, 3)\n",
    "plt.scatter(setosa['sepal_length'], setosa['petal_width'], label='Setosa')\n",
    "plt.scatter(versicolor['sepal_length'], versicolor['petal_width'], label='Versicolor')\n",
    "plt.scatter(virginica['sepal_length'], virginica['petal_width'], label='Virginica')\n",
    "plt.xlabel('Comprimento da Sépala')\n",
    "plt.ylabel('Largura da Pétala')\n",
    "plt.legend()\n",
    "\n",
    "# Largura da pétala\n",
    "plt.subplot(2, 2, 4)\n",
    "plt.scatter(setosa['petal_length'], setosa['petal_width'], label='Setosa')\n",
    "plt.scatter(versicolor['petal_length'], versicolor['petal_width'], label='Versicolor')\n",
    "plt.scatter(virginica['petal_length'], virginica['petal_width'], label='Virginica')\n",
    "plt.xlabel('Comprimento da Pétala')\n",
    "plt.ylabel('Largura da Pétala')\n",
    "plt.legend()\n",
    "\n",
    "# Mostrar os gráficos\n",
    "plt.tight_layout()\n",
    "plt.show()"
   ]
  },
  {
   "attachments": {},
   "cell_type": "markdown",
   "id": "01eaaf7c",
   "metadata": {},
   "source": [
    "#### Training models"
   ]
  },
  {
   "cell_type": "code",
   "execution_count": 31,
   "id": "9d796714",
   "metadata": {},
   "outputs": [],
   "source": [
    "y_data = data['class']\n",
    "X_data = data.drop(['class'], axis=1)\n",
    "\n",
    "X_reduced = PCA(n_components=2).fit_transform(X_data)\n",
    "X_red =  pd.DataFrame(data = X_reduced)\n",
    "X_red['class'] = data['class']"
   ]
  },
  {
   "cell_type": "code",
   "execution_count": 32,
   "id": "251614ba",
   "metadata": {},
   "outputs": [
    {
     "name": "stdout",
     "output_type": "stream",
     "text": [
      "ACCURACY WITH KNN  100.0\n",
      "ACCURACY WITH KNN AND PCA 100.0\n"
     ]
    }
   ],
   "source": [
    "X = np.array(data.iloc[:,0:4]) ##extract our features into a numpy array\n",
    "Y = np.array(y_data) ##extract our target into a numpy array\n",
    "X_train, X_test, Y_train, Y_test = train_test_split(X, Y, test_size=0.2, random_state=42)\n",
    "\n",
    "knn = KNeighborsClassifier(n_neighbors = 3)\n",
    "\n",
    "knn.fit(X_train, Y_train)\n",
    "\n",
    "pred = knn.predict(X_test)\n",
    "\n",
    "print (\"ACCURACY WITH KNN \", accuracy_score(Y_test, pred)*100)\n",
    "\n",
    "# KNN WITH PCA\n",
    "\n",
    "x = np.array(X_red.iloc[:,0:2]) \n",
    "y = np.array(X_red['class']) \n",
    "\n",
    "x_train, x_test, y_train, y_test = train_test_split(x, y, test_size=0.2, random_state=42)\n",
    "\n",
    "knn = KNeighborsClassifier(n_neighbors = 3)\n",
    "knn.fit(x_train, y_train)\n",
    "pca_pred = knn.predict(x_test)\n",
    "acc_pca = accuracy_score(Y_test,pca_pred) * 100\n",
    "print (\"ACCURACY WITH KNN AND PCA\", acc_pca)"
   ]
  }
 ],
 "metadata": {
  "kernelspec": {
   "display_name": "Python 3 (ipykernel)",
   "language": "python",
   "name": "python3"
  },
  "language_info": {
   "codemirror_mode": {
    "name": "ipython",
    "version": 3
   },
   "file_extension": ".py",
   "mimetype": "text/x-python",
   "name": "python",
   "nbconvert_exporter": "python",
   "pygments_lexer": "ipython3",
   "version": "3.10.6"
  }
 },
 "nbformat": 4,
 "nbformat_minor": 5
}
